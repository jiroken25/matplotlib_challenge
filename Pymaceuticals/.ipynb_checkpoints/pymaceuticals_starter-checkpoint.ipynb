{
 "cells": [
  {
   "cell_type": "markdown",
   "metadata": {},
   "source": [
    "## Observations and Insights "
   ]
  },
  {
   "cell_type": "code",
   "execution_count": 64,
   "metadata": {},
   "outputs": [],
   "source": [
    "# Dependencies and Setup\n",
    "%matplotlib widget\n",
    "import matplotlib.pyplot as plt\n",
    "import pandas as pd\n",
    "import scipy.stats as st\n",
    "import numpy as np\n",
    "\n",
    "pd.options.display.precision = 2\n",
    "\n",
    "# Study data files\n",
    "mouse_metadata_path = \"data/Mouse_metadata.csv\"\n",
    "study_results_path = \"data/Study_results.csv\"\n",
    "\n",
    "# Read the mouse data and the study results\n",
    "mouse_metadata = pd.read_csv(mouse_metadata_path)\n",
    "study_results = pd.read_csv(study_results_path)\n"
   ]
  },
  {
   "cell_type": "code",
   "execution_count": 65,
   "metadata": {},
   "outputs": [],
   "source": [
    "# Combine the data into a single dataset\n",
    "combine_df = pd.merge(mouse_metadata,study_results,on=\"Mouse ID\", how = \"right\")\n"
   ]
  },
  {
   "cell_type": "code",
   "execution_count": 66,
   "metadata": {},
   "outputs": [
    {
     "data": {
      "text/html": [
       "<div>\n",
       "<style scoped>\n",
       "    .dataframe tbody tr th:only-of-type {\n",
       "        vertical-align: middle;\n",
       "    }\n",
       "\n",
       "    .dataframe tbody tr th {\n",
       "        vertical-align: top;\n",
       "    }\n",
       "\n",
       "    .dataframe thead th {\n",
       "        text-align: right;\n",
       "    }\n",
       "</style>\n",
       "<table border=\"1\" class=\"dataframe\">\n",
       "  <thead>\n",
       "    <tr style=\"text-align: right;\">\n",
       "      <th></th>\n",
       "      <th>Mouse ID</th>\n",
       "      <th>Drug Regimen</th>\n",
       "      <th>Sex</th>\n",
       "      <th>Age_months</th>\n",
       "      <th>Weight (g)</th>\n",
       "      <th>Timepoint</th>\n",
       "      <th>Tumor Volume (mm3)</th>\n",
       "      <th>Metastatic Sites</th>\n",
       "    </tr>\n",
       "  </thead>\n",
       "  <tbody>\n",
       "    <tr>\n",
       "      <th>0</th>\n",
       "      <td>k403</td>\n",
       "      <td>Ramicane</td>\n",
       "      <td>Male</td>\n",
       "      <td>21</td>\n",
       "      <td>16</td>\n",
       "      <td>0</td>\n",
       "      <td>45.00</td>\n",
       "      <td>0</td>\n",
       "    </tr>\n",
       "    <tr>\n",
       "      <th>1</th>\n",
       "      <td>k403</td>\n",
       "      <td>Ramicane</td>\n",
       "      <td>Male</td>\n",
       "      <td>21</td>\n",
       "      <td>16</td>\n",
       "      <td>5</td>\n",
       "      <td>38.83</td>\n",
       "      <td>0</td>\n",
       "    </tr>\n",
       "    <tr>\n",
       "      <th>2</th>\n",
       "      <td>k403</td>\n",
       "      <td>Ramicane</td>\n",
       "      <td>Male</td>\n",
       "      <td>21</td>\n",
       "      <td>16</td>\n",
       "      <td>10</td>\n",
       "      <td>35.01</td>\n",
       "      <td>1</td>\n",
       "    </tr>\n",
       "    <tr>\n",
       "      <th>3</th>\n",
       "      <td>k403</td>\n",
       "      <td>Ramicane</td>\n",
       "      <td>Male</td>\n",
       "      <td>21</td>\n",
       "      <td>16</td>\n",
       "      <td>15</td>\n",
       "      <td>34.22</td>\n",
       "      <td>1</td>\n",
       "    </tr>\n",
       "    <tr>\n",
       "      <th>4</th>\n",
       "      <td>k403</td>\n",
       "      <td>Ramicane</td>\n",
       "      <td>Male</td>\n",
       "      <td>21</td>\n",
       "      <td>16</td>\n",
       "      <td>20</td>\n",
       "      <td>33.00</td>\n",
       "      <td>1</td>\n",
       "    </tr>\n",
       "  </tbody>\n",
       "</table>\n",
       "</div>"
      ],
      "text/plain": [
       "  Mouse ID Drug Regimen   Sex  Age_months  Weight (g)  Timepoint  \\\n",
       "0     k403     Ramicane  Male          21          16          0   \n",
       "1     k403     Ramicane  Male          21          16          5   \n",
       "2     k403     Ramicane  Male          21          16         10   \n",
       "3     k403     Ramicane  Male          21          16         15   \n",
       "4     k403     Ramicane  Male          21          16         20   \n",
       "\n",
       "   Tumor Volume (mm3)  Metastatic Sites  \n",
       "0               45.00                 0  \n",
       "1               38.83                 0  \n",
       "2               35.01                 1  \n",
       "3               34.22                 1  \n",
       "4               33.00                 1  "
      ]
     },
     "execution_count": 66,
     "metadata": {},
     "output_type": "execute_result"
    }
   ],
   "source": [
    "# Display the data table for preview\n",
    "combine_df.head()"
   ]
  },
  {
   "cell_type": "code",
   "execution_count": 67,
   "metadata": {},
   "outputs": [
    {
     "data": {
      "text/plain": [
       "249"
      ]
     },
     "execution_count": 67,
     "metadata": {},
     "output_type": "execute_result"
    }
   ],
   "source": [
    "# Checking the number of mice.\n",
    "len(combine_df[\"Mouse ID\"].unique())"
   ]
  },
  {
   "cell_type": "code",
   "execution_count": 68,
   "metadata": {},
   "outputs": [],
   "source": [
    "# Getting the duplicate mice by ID number that shows up for Mouse ID and Timepoint. \n",
    "duplicate_df = combine_df.duplicated(subset=[\"Mouse ID\", \"Timepoint\"],keep=False)\n",
    "duplicate_index = duplicate_df.index[duplicate_df]\n"
   ]
  },
  {
   "cell_type": "code",
   "execution_count": 69,
   "metadata": {},
   "outputs": [
    {
     "data": {
      "text/plain": [
       "array(['g989'], dtype=object)"
      ]
     },
     "execution_count": 69,
     "metadata": {},
     "output_type": "execute_result"
    }
   ],
   "source": [
    "# Optional: Get all the data for the duplicate mouse ID. \n",
    "combine_df.loc[duplicate_index,:][\"Mouse ID\"].unique()\n"
   ]
  },
  {
   "cell_type": "code",
   "execution_count": 70,
   "metadata": {},
   "outputs": [],
   "source": [
    "# Create a clean DataFrame by dropping the duplicate mouse by its ID.\n",
    "clean_df = combine_df[combine_df[\"Mouse ID\"]!= \"g989\"]\n"
   ]
  },
  {
   "cell_type": "code",
   "execution_count": 71,
   "metadata": {},
   "outputs": [
    {
     "data": {
      "text/plain": [
       "248"
      ]
     },
     "execution_count": 71,
     "metadata": {},
     "output_type": "execute_result"
    }
   ],
   "source": [
    "# Checking the number of mice in the clean DataFrame.\n",
    "len(clean_df[\"Mouse ID\"].unique())"
   ]
  },
  {
   "cell_type": "markdown",
   "metadata": {},
   "source": [
    "## Summary Statistics"
   ]
  },
  {
   "cell_type": "code",
   "execution_count": 72,
   "metadata": {},
   "outputs": [
    {
     "data": {
      "text/html": [
       "<div>\n",
       "<style scoped>\n",
       "    .dataframe tbody tr th:only-of-type {\n",
       "        vertical-align: middle;\n",
       "    }\n",
       "\n",
       "    .dataframe tbody tr th {\n",
       "        vertical-align: top;\n",
       "    }\n",
       "\n",
       "    .dataframe thead th {\n",
       "        text-align: right;\n",
       "    }\n",
       "</style>\n",
       "<table border=\"1\" class=\"dataframe\">\n",
       "  <thead>\n",
       "    <tr style=\"text-align: right;\">\n",
       "      <th></th>\n",
       "      <th>Regimen</th>\n",
       "      <th>Mean</th>\n",
       "      <th>Median</th>\n",
       "      <th>SD</th>\n",
       "      <th>SEM</th>\n",
       "    </tr>\n",
       "  </thead>\n",
       "  <tbody>\n",
       "    <tr>\n",
       "      <th>0</th>\n",
       "      <td>Ramicane</td>\n",
       "      <td>40.22</td>\n",
       "      <td>40.67</td>\n",
       "      <td>4.84</td>\n",
       "      <td>0.32</td>\n",
       "    </tr>\n",
       "    <tr>\n",
       "      <th>1</th>\n",
       "      <td>Capomulin</td>\n",
       "      <td>40.68</td>\n",
       "      <td>41.56</td>\n",
       "      <td>4.98</td>\n",
       "      <td>0.33</td>\n",
       "    </tr>\n",
       "    <tr>\n",
       "      <th>2</th>\n",
       "      <td>Infubinol</td>\n",
       "      <td>52.88</td>\n",
       "      <td>51.82</td>\n",
       "      <td>6.55</td>\n",
       "      <td>0.49</td>\n",
       "    </tr>\n",
       "    <tr>\n",
       "      <th>3</th>\n",
       "      <td>Placebo</td>\n",
       "      <td>54.03</td>\n",
       "      <td>52.29</td>\n",
       "      <td>7.80</td>\n",
       "      <td>0.58</td>\n",
       "    </tr>\n",
       "    <tr>\n",
       "      <th>4</th>\n",
       "      <td>Ceftamin</td>\n",
       "      <td>52.59</td>\n",
       "      <td>51.78</td>\n",
       "      <td>6.25</td>\n",
       "      <td>0.47</td>\n",
       "    </tr>\n",
       "  </tbody>\n",
       "</table>\n",
       "</div>"
      ],
      "text/plain": [
       "     Regimen   Mean  Median    SD   SEM\n",
       "0   Ramicane  40.22   40.67  4.84  0.32\n",
       "1  Capomulin  40.68   41.56  4.98  0.33\n",
       "2  Infubinol  52.88   51.82  6.55  0.49\n",
       "3    Placebo  54.03   52.29  7.80  0.58\n",
       "4   Ceftamin  52.59   51.78  6.25  0.47"
      ]
     },
     "execution_count": 72,
     "metadata": {},
     "output_type": "execute_result"
    }
   ],
   "source": [
    "# Generate a summary statistics table of mean, median, variance, standard deviation, and SEM of the tumor volume for each regimen\n",
    "drug_regimen_list = clean_df[\"Drug Regimen\"].unique()\n",
    "\n",
    "summary_table = {\"Regimen\":drug_regimen_list,\"Mean\":[],\"Median\":[],\"SD\":[],\"SEM\":[]}\n",
    "\n",
    "for each in drug_regimen_list:\n",
    "    summary_table[\"Mean\"].append(np.mean(clean_df.loc[clean_df[\"Drug Regimen\"] == each,\"Tumor Volume (mm3)\"]))\n",
    "    summary_table[\"Median\"].append(np.median(clean_df.loc[clean_df[\"Drug Regimen\"] == each,\"Tumor Volume (mm3)\"]))\n",
    "    summary_table[\"SD\"].append(np.std(clean_df.loc[clean_df[\"Drug Regimen\"] == each,\"Tumor Volume (mm3)\"],ddof = 0))\n",
    "    summary_table[\"SEM\"].append(st.sem(clean_df.loc[clean_df[\"Drug Regimen\"] == each,\"Tumor Volume (mm3)\"]))\n",
    "\n",
    "    \n",
    "summary_df = pd.DataFrame.from_dict(summary_table)\n",
    "\n",
    "summary_df.head()\n"
   ]
  },
  {
   "cell_type": "markdown",
   "metadata": {},
   "source": [
    "## Bar and Pie Charts"
   ]
  },
  {
   "cell_type": "code",
   "execution_count": 73,
   "metadata": {},
   "outputs": [
    {
     "data": {
      "application/vnd.jupyter.widget-view+json": {
       "model_id": "887df092680b4b8ba0763d5ae7a88d76",
       "version_major": 2,
       "version_minor": 0
      },
      "text/plain": [
       "Canvas(toolbar=Toolbar(toolitems=[('Home', 'Reset original view', 'home', 'home'), ('Back', 'Back to previous …"
      ]
     },
     "metadata": {},
     "output_type": "display_data"
    }
   ],
   "source": [
    "# Generate a bar plot showing the total number of mice for each treatment throughout the course of the study using pandas. \n",
    "study_mice_df = clean_df[[\"Mouse ID\",\"Drug Regimen\",\"Sex\"]].drop_duplicates(subset=\"Mouse ID\")\n",
    "\n",
    "fig1, ax1 = plt.subplots()\n",
    "ax1 = study_mice_df.groupby(\"Drug Regimen\").count()[\"Mouse ID\"].plot(kind=\"bar\", title = \"Total Number of Mice for each Treatment(pandas)\",xlim=(-0.25,len(drug_regimen_list)+0.25))\n",
    "ax1.set_ylabel(\"Number\")\n",
    "plt.tight_layout()\n",
    "plt.show()"
   ]
  },
  {
   "cell_type": "code",
   "execution_count": 74,
   "metadata": {},
   "outputs": [
    {
     "data": {
      "application/vnd.jupyter.widget-view+json": {
       "model_id": "93921bf9bc104cdc80886024d3bae3e4",
       "version_major": 2,
       "version_minor": 0
      },
      "text/plain": [
       "Canvas(toolbar=Toolbar(toolitems=[('Home', 'Reset original view', 'home', 'home'), ('Back', 'Back to previous …"
      ]
     },
     "metadata": {},
     "output_type": "display_data"
    }
   ],
   "source": [
    "# Generate a bar plot showing the total number of mice for each treatment throughout the course of the study using pyplot.\n",
    "x_list = study_mice_df.groupby(\"Drug Regimen\").count().index\n",
    "x_range = np.arange(len(x_list))\n",
    "y_total =  study_mice_df.groupby(\"Drug Regimen\").count()[\"Mouse ID\"]\n",
    "\n",
    "fig2, ax2 =plt.subplots()\n",
    "ax2.bar(x_range,y_total, width = 0.5)\n",
    "ax2.set_xticks(x_range)\n",
    "ax2.set_xticklabels(x_list, rotation=90)\n",
    "ax2.set_xlabel(\"Drug Regimen\")\n",
    "ax2.set_ylabel(\"Number\")\n",
    "ax2.set_xlim(-0.75,len(drug_regimen_list)-0.25)\n",
    "ax2.set_title(\"Total Number of Mice for each Treatment(pyplot)\")\n",
    "plt.tight_layout()\n",
    "plt.show()"
   ]
  },
  {
   "cell_type": "code",
   "execution_count": 75,
   "metadata": {},
   "outputs": [
    {
     "data": {
      "application/vnd.jupyter.widget-view+json": {
       "model_id": "e8520c33bd754913ad2924bb7567dbca",
       "version_major": 2,
       "version_minor": 0
      },
      "text/plain": [
       "Canvas(toolbar=Toolbar(toolitems=[('Home', 'Reset original view', 'home', 'home'), ('Back', 'Back to previous …"
      ]
     },
     "metadata": {},
     "output_type": "display_data"
    }
   ],
   "source": [
    "# Generate a pie plot showing the distribution of female versus male mice using pandas\n",
    "\n",
    "ax3 = study_mice_df.groupby(\"Sex\").count().plot(y = \"Mouse ID\",kind = \"pie\", startangle = 90, autopct='%1.1f%%', title=\"Distribution of female vs male\" )\n",
    "ax3.set_ylabel(\"\")\n",
    "plt.tight_layout()\n",
    "#members = [49, 92, 84, 53]\n",
    "#x_axis = np.arange(0, len(gyms))\n",
    "#colors = [\"yellowgreen\", \"red\", \"lightcoral\", \"lightskyblue\"]\n",
    "#explode = (0, 0.05, 0, 0)"
   ]
  },
  {
   "cell_type": "code",
   "execution_count": 76,
   "metadata": {},
   "outputs": [
    {
     "data": {
      "application/vnd.jupyter.widget-view+json": {
       "model_id": "a4533634acff4210ac12457d11760753",
       "version_major": 2,
       "version_minor": 0
      },
      "text/plain": [
       "Canvas(toolbar=Toolbar(toolitems=[('Home', 'Reset original view', 'home', 'home'), ('Back', 'Back to previous …"
      ]
     },
     "metadata": {},
     "output_type": "display_data"
    },
    {
     "data": {
      "text/plain": [
       "Text(0.5, 1.0, 'Distribution of female vs male')"
      ]
     },
     "execution_count": 76,
     "metadata": {},
     "output_type": "execute_result"
    }
   ],
   "source": [
    "# Generate a pie plot showing the distribution of female versus male mice using pyplot\n",
    "sex = [\"Female\",\"Male\"]\n",
    "sex_numbers = [study_mice_df[study_mice_df[\"Sex\"] == \"Female\"].count()[\"Mouse ID\"],study_mice_df[study_mice_df[\"Sex\"] == \"Male\"].count()[\"Mouse ID\"]]\n",
    "colors = [\"blue\",\"orange\"]\n",
    "plt.figure()\n",
    "plt.pie(sex_numbers,colors=colors, startangle = 90, autopct='%1.1f%%',labels=sex)\n",
    "plt.legend()\n",
    "plt.title(\"Distribution of female vs male\")"
   ]
  },
  {
   "cell_type": "markdown",
   "metadata": {},
   "source": [
    "## Quartiles, Outliers and Boxplots"
   ]
  },
  {
   "cell_type": "code",
   "execution_count": 77,
   "metadata": {},
   "outputs": [],
   "source": [
    "# Calculate the final tumor volume of each mouse across four of the treatment regimens:  \n",
    "\n",
    "# Capomulin, Ramicane, Infubinol, and Ceftamin\n",
    "treatment_list = clean_df[\"Drug Regimen\"].unique()\n",
    "max_timepoint = {}\n",
    "treatment_df_list = {}\n",
    "\n",
    "for treatment in treatment_list:\n",
    "    treatment_df_list[treatment]  = clean_df[clean_df[\"Drug Regimen\"] == treatment]\n",
    "    for mice in treatment_df_list[treatment][\"Mouse ID\"].unique():\n",
    "        max_timepoint[mice] = treatment_df_list[treatment][treatment_df_list[treatment][\"Mouse ID\"] == mice].max()[\"Timepoint\"]\n",
    "\n",
    "max_timepoint\n",
    "    \n",
    "\n",
    "# Start by getting the last (greatest) timepoint for each mouse\n",
    "\n",
    "\n",
    "# Merge this group df with the original dataframe to get the tumor volume at the last timepoint\n",
    "volume_dict ={\"Mouse ID\":list(max_timepoint.keys()),\"Last Volume\":[]}\n",
    "for key in max_timepoint.keys():\n",
    "    volume_dict[\"Last Volume\"].append(clean_df.loc[(clean_df[\"Mouse ID\"] == key) & (clean_df[\"Timepoint\"] == max_timepoint[key]),\"Tumor Volume (mm3)\"].values[0])\n",
    "    \n",
    "volume_df = pd.DataFrame.from_dict(volume_dict)\n",
    "\n",
    "clean_last_volume_df = pd.merge(clean_df,volume_df,on=\"Mouse ID\",how =\"left\")\n",
    "last_volume_df  = clean_last_volume_df[[\"Mouse ID\",\"Drug Regimen\",\"Last Volume\"]].drop_duplicates()"
   ]
  },
  {
   "cell_type": "code",
   "execution_count": 78,
   "metadata": {},
   "outputs": [
    {
     "name": "stdout",
     "output_type": "stream",
     "text": [
      "[Series([], Name: Last Volume, dtype: float64), Series([], Name: Last Volume, dtype: float64), 668    36.32\n",
      "Name: Last Volume, dtype: float64, Series([], Name: Last Volume, dtype: float64)]\n",
      "--------------------\n",
      "Infubinol has an outlier of 36.32\n"
     ]
    }
   ],
   "source": [
    "\n",
    "# Put treatments into a list for for loop (and later for plot labels)\n",
    "\n",
    "treatment_list = [\"Capomulin\",\"Ramicane\",\"Infubinol\",\"Ceftamin\"]\n",
    "# Create empty list to fill with tumor vol data (for plotting)\n",
    "Capomulin_volume = last_volume_df.loc[last_volume_df[\"Drug Regimen\"]==\"Capomulin\",\"Last Volume\"]\n",
    "Ramicane_volume = last_volume_df.loc[last_volume_df[\"Drug Regimen\"]==\"Ramicane\",\"Last Volume\"]\n",
    "Infubinol_volume = last_volume_df.loc[last_volume_df[\"Drug Regimen\"]==\"Infubinol\",\"Last Volume\"]\n",
    "Ceftamin_volume =  last_volume_df.loc[last_volume_df[\"Drug Regimen\"]==\"Ceftamin\",\"Last Volume\"]\n",
    "\n",
    "four_data = [Capomulin_volume,Ramicane_volume,Infubinol_volume,Ceftamin_volume]\n",
    "\n",
    "lower_quartile = []\n",
    "higher_quartile = []\n",
    "IQR = []\n",
    "outlier_series = []\n",
    "# Calculate the IQR and quantitatively determine if there are any potential outliers. \n",
    "\n",
    "for each_df in four_data: \n",
    "    quartiles = each_df.quantile([0.25,0.5,0.75])\n",
    "    lower_quartile.append(quartiles[0.25])\n",
    "    higher_quartile.append(quartiles[0.75])\n",
    "    IQR.append(quartiles[0.75] - quartiles[0.25])\n",
    "    outlier_series.append(each_df[(each_df <quartiles[0.25] -1.5*(quartiles[0.75] - quartiles[0.25]))|(each_df >quartiles[0.75] +1.5*(quartiles[0.75] - quartiles[0.25]))])\n",
    "    \n",
    "\n",
    "\n",
    "print(outlier_series)\n",
    "print('--------------------')\n",
    "print('Infubinol has an outlier of 36.32')\n",
    "\n"
   ]
  },
  {
   "cell_type": "code",
   "execution_count": 84,
   "metadata": {},
   "outputs": [
    {
     "data": {
      "application/vnd.jupyter.widget-view+json": {
       "model_id": "c781137db52c4504b9b3611e7aeafe42",
       "version_major": 2,
       "version_minor": 0
      },
      "text/plain": [
       "Canvas(toolbar=Toolbar(toolitems=[('Home', 'Reset original view', 'home', 'home'), ('Back', 'Back to previous …"
      ]
     },
     "metadata": {},
     "output_type": "display_data"
    }
   ],
   "source": [
    "# Generate a box plot of the final tumor volume of each mouse across four regimens of interest\n",
    "fig3, ax3 = plt.subplots()\n",
    "ax3.boxplot(four_data)\n",
    "ax3.set_title(\"Final tumor volume of each mouse across four regimens of interest\")\n",
    "ax3.set_xticklabels(treatment_list)\n",
    "ax3.set_xlabel(\"Regimen\")\n",
    "ax3.set_ylabel(\"Final Volume(mm3)\")\n",
    "plt.tight_layout()"
   ]
  },
  {
   "cell_type": "markdown",
   "metadata": {},
   "source": [
    "## Line and Scatter Plots"
   ]
  },
  {
   "cell_type": "code",
   "execution_count": 113,
   "metadata": {},
   "outputs": [
    {
     "name": "stderr",
     "output_type": "stream",
     "text": [
      "C:\\Users\\khiro\\anaconda3\\lib\\site-packages\\pandas\\plotting\\_matplotlib\\tools.py:182: RuntimeWarning: More than 20 figures have been opened. Figures created through the pyplot interface (`matplotlib.pyplot.figure`) are retained until explicitly closed and may consume too much memory. (To control this warning, see the rcParam `figure.max_open_warning`).\n",
      "  fig = plt.figure(**fig_kw)\n"
     ]
    },
    {
     "data": {
      "application/vnd.jupyter.widget-view+json": {
       "model_id": "0ef8cae583934f06b4c360513bf4c355",
       "version_major": 2,
       "version_minor": 0
      },
      "text/plain": [
       "Canvas(toolbar=Toolbar(toolitems=[('Home', 'Reset original view', 'home', 'home'), ('Back', 'Back to previous …"
      ]
     },
     "metadata": {},
     "output_type": "display_data"
    }
   ],
   "source": [
    "# Generate a line plot of time point versus tumor volume for a mouse treated with Capomulin\n",
    "\n",
    "capomulin_df = clean_df.loc[clean_df[\"Drug Regimen\"] == \"Capomulin\",[\"Mouse ID\",\"Timepoint\",\"Tumor Volume (mm3)\"]]\n",
    "capomulin_df.set_index(\"Timepoint\", inplace = True)\n",
    "ax5 = capomulin_df.plot(subplots=True,figsize=(12,12),style = '^-',title =\"Movement of tumor volume as per time point\")\n",
    "plt.ylabel(\"Tumor Volume (mm3)\")\n",
    "plt.tight_layout()"
   ]
  },
  {
   "cell_type": "code",
   "execution_count": 124,
   "metadata": {},
   "outputs": [
    {
     "name": "stderr",
     "output_type": "stream",
     "text": [
      "C:\\Users\\khiro\\anaconda3\\lib\\site-packages\\ipykernel_launcher.py:5: RuntimeWarning: More than 20 figures have been opened. Figures created through the pyplot interface (`matplotlib.pyplot.figure`) are retained until explicitly closed and may consume too much memory. (To control this warning, see the rcParam `figure.max_open_warning`).\n",
      "  \"\"\"\n"
     ]
    },
    {
     "data": {
      "application/vnd.jupyter.widget-view+json": {
       "model_id": "b025722f353e4e2e92f7b43b95a44fd4",
       "version_major": 2,
       "version_minor": 0
      },
      "text/plain": [
       "Canvas(toolbar=Toolbar(toolitems=[('Home', 'Reset original view', 'home', 'home'), ('Back', 'Back to previous …"
      ]
     },
     "metadata": {},
     "output_type": "display_data"
    }
   ],
   "source": [
    "# Generate a scatter plot of mouse weight versus average tumor volume for the Capomulin regimen\n",
    "\n",
    "weight_df = clean_df.loc[clean_df[\"Drug Regimen\"] == \"Capomulin\",[\"Mouse ID\",\"Tumor Volume (mm3)\",\"Weight (g)\"]]\n",
    "\n",
    "fig6, ax6 = plt.subplots()\n",
    "\n",
    "x=weight_df.groupby(\"Mouse ID\").mean()[\"Weight (g)\"]\n",
    "y=weight_df.groupby(\"Mouse ID\").mean()[\"Tumor Volume (mm3)\"]\n",
    "ax6.scatter(x=x, y=y)\n",
    "(slope, intercept,r_value,p_value,std_err) = st.linregress(x,y)\n",
    "         \n",
    "ax6.plot(x,slope*x +intercept)\n",
    "ax6.text(17,slope*17+intercept-1,'y='+str(round(slope,4)) + 'x +' +str(round(intercept,4)) + \"     R2 =\" +str(round(r_value*r_value,4)))\n",
    "ax6.set_title(\"Relation of mouse weight and average tumor volume\")\n",
    "ax6.set_xlabel(\"Weight (g)\")\n",
    "ax6.set_ylabel(\"Average Tumor Volume(mm3)\")\n",
    "plt.tight_layout()"
   ]
  },
  {
   "cell_type": "markdown",
   "metadata": {},
   "source": [
    "## Correlation and Regression"
   ]
  },
  {
   "cell_type": "code",
   "execution_count": 128,
   "metadata": {},
   "outputs": [
    {
     "name": "stdout",
     "output_type": "stream",
     "text": [
      "Correlation = 0.84\n"
     ]
    },
    {
     "data": {
      "text/html": [
       "<div>\n",
       "<style scoped>\n",
       "    .dataframe tbody tr th:only-of-type {\n",
       "        vertical-align: middle;\n",
       "    }\n",
       "\n",
       "    .dataframe tbody tr th {\n",
       "        vertical-align: top;\n",
       "    }\n",
       "\n",
       "    .dataframe thead th {\n",
       "        text-align: right;\n",
       "    }\n",
       "</style>\n",
       "<table border=\"1\" class=\"dataframe\">\n",
       "  <thead>\n",
       "    <tr style=\"text-align: right;\">\n",
       "      <th></th>\n",
       "      <th>Tumor Volume (mm3)</th>\n",
       "      <th>Weight (g)</th>\n",
       "    </tr>\n",
       "  </thead>\n",
       "  <tbody>\n",
       "    <tr>\n",
       "      <th>Tumor Volume (mm3)</th>\n",
       "      <td>1.00</td>\n",
       "      <td>0.84</td>\n",
       "    </tr>\n",
       "    <tr>\n",
       "      <th>Weight (g)</th>\n",
       "      <td>0.84</td>\n",
       "      <td>1.00</td>\n",
       "    </tr>\n",
       "  </tbody>\n",
       "</table>\n",
       "</div>"
      ],
      "text/plain": [
       "                    Tumor Volume (mm3)  Weight (g)\n",
       "Tumor Volume (mm3)                1.00        0.84\n",
       "Weight (g)                        0.84        1.00"
      ]
     },
     "execution_count": 128,
     "metadata": {},
     "output_type": "execute_result"
    }
   ],
   "source": [
    "# Calculate the correlation coefficient and linear regression model \n",
    "# for mouse weight and average tumor volume for the Capomulin regimen\n",
    "weight_df.groupby(\"Mouse ID\").mean().corr()\n",
    "\n",
    "print(\"Correlation = 0.84\")\n",
    "weight_df.groupby(\"Mouse ID\").mean().corr()\n"
   ]
  },
  {
   "cell_type": "code",
   "execution_count": null,
   "metadata": {},
   "outputs": [],
   "source": []
  }
 ],
 "metadata": {
  "anaconda-cloud": {},
  "kernelspec": {
   "display_name": "Python 3",
   "language": "python",
   "name": "python3"
  },
  "language_info": {
   "codemirror_mode": {
    "name": "ipython",
    "version": 3
   },
   "file_extension": ".py",
   "mimetype": "text/x-python",
   "name": "python",
   "nbconvert_exporter": "python",
   "pygments_lexer": "ipython3",
   "version": "3.7.6"
  }
 },
 "nbformat": 4,
 "nbformat_minor": 4
}
